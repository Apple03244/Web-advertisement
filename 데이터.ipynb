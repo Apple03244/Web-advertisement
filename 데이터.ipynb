{
 "cells": [
  {
   "cell_type": "code",
   "execution_count": 1,
   "metadata": {},
   "outputs": [],
   "source": [
    "import pandas as pd\n",
    "import tensorflow as tf\n",
    "import tensorflow.train as ttrain\n",
    "import functools as ft\n",
    "import numpy as np\n",
    "data_path=\"/Users/ijeonghun/Documents/projects/dacon/웹광고/train.csv\""
   ]
  },
  {
   "cell_type": "code",
   "execution_count": 3,
   "metadata": {},
   "outputs": [],
   "source": [
    "# 데이터 타입\n",
    "df=pd.read_csv(data_path,nrows=10)\n",
    "df_copy=df.copy()\n",
    "df_copy=df_copy.dropna(axis=0)\n",
    "dtype_dict=dict(df_copy.dtypes)"
   ]
  },
  {
   "cell_type": "code",
   "execution_count": 4,
   "metadata": {},
   "outputs": [],
   "source": [
    "# str 타입 -> bytes 타입으로 변환\n",
    "def trans_dytes(data:str):\n",
    "    return data.encode(\"utf-8\")"
   ]
  },
  {
   "cell_type": "code",
   "execution_count": 40,
   "metadata": {},
   "outputs": [],
   "source": [
    "# 데이터 타입 매칭\n",
    "def dtype_mapping(feature:str,dtypes:dict,data:str):\n",
    "    '''변환을 위한 함수'''\n",
    "    if dtype_dict[feature]==np.dtype(\"O\"):\n",
    "        return ttrain.Feature(bytes_list=ttrain.BytesList(value=[trans_dytes(data)]))\n",
    "    elif dtype_dict[feature]==np.dtype(\"int64\"):\n",
    "        return ttrain.Feature(int64_list=ttrain.Int64List(value=[int(data) if data else 0]))\n",
    "    else:\n",
    "        return ttrain.Feature(float_list=ttrain.FloatList(value=[float(data) if data else 0.0]))\n",
    "d_map=ft.partial(dtype_mapping,dtypes=dtype_dict)"
   ]
  },
  {
   "cell_type": "code",
   "execution_count": 4,
   "metadata": {},
   "outputs": [],
   "source": [
    "with open(data_path,\"r\") as f:\n",
    "    file=f.readlines()"
   ]
  },
  {
   "cell_type": "code",
   "execution_count": 5,
   "metadata": {},
   "outputs": [],
   "source": [
    "def csv_reader(data:str):\n",
    "    return list(map(lambda x:x.strip(),data.split(\",\")))"
   ]
  },
  {
   "cell_type": "code",
   "execution_count": 10,
   "metadata": {},
   "outputs": [
    {
     "data": {
      "text/plain": [
       "value: \"\\354\\235\\264\\354\\240\\225\\355\\233\\210\""
      ]
     },
     "execution_count": 10,
     "metadata": {},
     "output_type": "execute_result"
    }
   ],
   "source": [
    "d_map(feature=\"ID\",data=\"이정훈\")"
   ]
  },
  {
   "cell_type": "code",
   "execution_count": 41,
   "metadata": {},
   "outputs": [],
   "source": [
    "feature_names=csv_reader(file[0])\n",
    "test_zip=zip(feature_names,csv_reader(file[1]))\n",
    "test_feature={\n",
    "                    x:d_map(feature=x,data=y) for x,y in test_zip\n",
    "                }"
   ]
  },
  {
   "cell_type": "code",
   "execution_count": 44,
   "metadata": {},
   "outputs": [
    {
     "ename": "KeyboardInterrupt",
     "evalue": "",
     "output_type": "error",
     "traceback": [
      "\u001b[0;31m---------------------------------------------------------------------------\u001b[0m",
      "\u001b[0;31mKeyboardInterrupt\u001b[0m                         Traceback (most recent call last)",
      "Cell \u001b[0;32mIn[44], line 6\u001b[0m\n\u001b[1;32m      3\u001b[0m \u001b[38;5;28;01mfor\u001b[39;00m data \u001b[38;5;129;01min\u001b[39;00m file[\u001b[38;5;241m1\u001b[39m:]:\n\u001b[1;32m      4\u001b[0m     temp_zip\u001b[38;5;241m=\u001b[39m\u001b[38;5;28mzip\u001b[39m(feature_names,csv_reader(data))\n\u001b[1;32m      5\u001b[0m     example\u001b[38;5;241m=\u001b[39mttrain\u001b[38;5;241m.\u001b[39mExample(\n\u001b[0;32m----> 6\u001b[0m         features\u001b[38;5;241m=\u001b[39m\u001b[43mttrain\u001b[49m\u001b[38;5;241;43m.\u001b[39;49m\u001b[43mFeatures\u001b[49m\u001b[43m(\u001b[49m\n\u001b[1;32m      7\u001b[0m \u001b[43m            \u001b[49m\u001b[43mfeature\u001b[49m\u001b[38;5;241;43m=\u001b[39;49m\u001b[43m{\u001b[49m\n\u001b[1;32m      8\u001b[0m \u001b[43m                \u001b[49m\u001b[43mx\u001b[49m\u001b[43m:\u001b[49m\u001b[43md_map\u001b[49m\u001b[43m(\u001b[49m\u001b[43mfeature\u001b[49m\u001b[38;5;241;43m=\u001b[39;49m\u001b[43mx\u001b[49m\u001b[43m,\u001b[49m\u001b[43mdata\u001b[49m\u001b[38;5;241;43m=\u001b[39;49m\u001b[43my\u001b[49m\u001b[43m)\u001b[49m\u001b[43m \u001b[49m\u001b[38;5;28;43;01mfor\u001b[39;49;00m\u001b[43m \u001b[49m\u001b[43mx\u001b[49m\u001b[43m,\u001b[49m\u001b[43my\u001b[49m\u001b[43m \u001b[49m\u001b[38;5;129;43;01min\u001b[39;49;00m\u001b[43m \u001b[49m\u001b[43mtemp_zip\u001b[49m\n\u001b[1;32m      9\u001b[0m \u001b[43m            \u001b[49m\u001b[43m}\u001b[49m\n\u001b[1;32m     10\u001b[0m \u001b[43m        \u001b[49m\u001b[43m)\u001b[49m\n\u001b[1;32m     11\u001b[0m     )\n\u001b[1;32m     12\u001b[0m     writer\u001b[38;5;241m.\u001b[39mwrite(example\u001b[38;5;241m.\u001b[39mSerializeToString())\n",
      "\u001b[0;31mKeyboardInterrupt\u001b[0m: "
     ]
    }
   ],
   "source": [
    "with tf.io.TFRecordWriter(\"output.tfrecord\") as writer:\n",
    "    feature_names=csv_reader(file[0])\n",
    "    for data in file[1:]:\n",
    "        temp_zip=zip(feature_names,csv_reader(data))\n",
    "        example=ttrain.Example(\n",
    "            features=ttrain.Features(\n",
    "                feature={\n",
    "                    x:d_map(feature=x,data=y) for x,y in temp_zip\n",
    "                }\n",
    "            )\n",
    "        )\n",
    "        writer.write(example.SerializeToString())"
   ]
  },
  {
   "cell_type": "code",
   "execution_count": null,
   "metadata": {},
   "outputs": [],
   "source": []
  }
 ],
 "metadata": {
  "kernelspec": {
   "display_name": "Python 3",
   "language": "python",
   "name": "python3"
  },
  "language_info": {
   "codemirror_mode": {
    "name": "ipython",
    "version": 3
   },
   "file_extension": ".py",
   "mimetype": "text/x-python",
   "name": "python",
   "nbconvert_exporter": "python",
   "pygments_lexer": "ipython3",
   "version": "3.11.8"
  }
 },
 "nbformat": 4,
 "nbformat_minor": 2
}
