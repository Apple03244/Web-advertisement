{
 "cells": [
  {
   "cell_type": "code",
   "execution_count": 2,
   "metadata": {},
   "outputs": [],
   "source": [
    "import tensorflow as tf\n",
    "import tensorflow.io as ti\n",
    "import tensorflow.train as tt\n",
    "import tensorflow.keras as kras\n",
    "data_path='/Users/ijeonghun/Documents/projects/dacon/웹광고/train.csv'"
   ]
  },
  {
   "cell_type": "code",
   "execution_count": 3,
   "metadata": {},
   "outputs": [],
   "source": [
    "with open(data_path,\"r\") as f:\n",
    "    data=f.readlines()\n",
    "data_size=len(data)-1 # 헤더 제거"
   ]
  },
  {
   "cell_type": "code",
   "execution_count": 4,
   "metadata": {},
   "outputs": [
    {
     "name": "stdout",
     "output_type": "stream",
     "text": [
      "데이터셋 사이즈 :  28605391\n"
     ]
    }
   ],
   "source": [
    "print('데이터셋 사이즈 : ',len(data)-1)"
   ]
  },
  {
   "cell_type": "markdown",
   "metadata": {},
   "source": [
    "# 방법 1.\n",
    "make_csv_dataset"
   ]
  },
  {
   "cell_type": "code",
   "execution_count": 33,
   "metadata": {},
   "outputs": [],
   "source": [
    "import functools as ft\n",
    "fix_params={'file_pattern':[data_path],\"ignore_errors\":True,\"shuffle\":False}\n",
    "tf_dataset=ft.partial(tf.data.experimental.make_csv_dataset,**fix_params)"
   ]
  },
  {
   "cell_type": "code",
   "execution_count": 34,
   "metadata": {},
   "outputs": [],
   "source": [
    "Dataset=tf_dataset(batch_size=1)"
   ]
  },
  {
   "cell_type": "code",
   "execution_count": 35,
   "metadata": {},
   "outputs": [],
   "source": [
    "test=Dataset.map(lambda x:x[\"ID\"])"
   ]
  },
  {
   "cell_type": "code",
   "execution_count": 36,
   "metadata": {},
   "outputs": [
    {
     "name": "stdout",
     "output_type": "stream",
     "text": [
      "OrderedDict({'ID': <tf.Tensor: shape=(1,), dtype=string, numpy=array([b'TRAIN_00000000'], dtype=object)>, 'Click': <tf.Tensor: shape=(1,), dtype=int32, numpy=array([1], dtype=int32)>, 'F01': <tf.Tensor: shape=(1,), dtype=string, numpy=array([b'NSLHFNS'], dtype=object)>, 'F02': <tf.Tensor: shape=(1,), dtype=string, numpy=array([b'AVKQTCL'], dtype=object)>, 'F03': <tf.Tensor: shape=(1,), dtype=string, numpy=array([b'DTZFPRW'], dtype=object)>, 'F04': <tf.Tensor: shape=(1,), dtype=float32, numpy=array([114.], dtype=float32)>, 'F05': <tf.Tensor: shape=(1,), dtype=string, numpy=array([b'ISVXFVA'], dtype=object)>, 'F06': <tf.Tensor: shape=(1,), dtype=int32, numpy=array([1], dtype=int32)>, 'F07': <tf.Tensor: shape=(1,), dtype=string, numpy=array([b'PQZBVMG'], dtype=object)>, 'F08': <tf.Tensor: shape=(1,), dtype=string, numpy=array([b'LPYPUNA'], dtype=object)>, 'F09': <tf.Tensor: shape=(1,), dtype=string, numpy=array([b'IZYJZDA'], dtype=object)>, 'F10': <tf.Tensor: shape=(1,), dtype=string, numpy=array([b'RANQNXO'], dtype=object)>, 'F11': <tf.Tensor: shape=(1,), dtype=float32, numpy=array([66.], dtype=float32)>, 'F12': <tf.Tensor: shape=(1,), dtype=string, numpy=array([b'EGWPZEB'], dtype=object)>, 'F13': <tf.Tensor: shape=(1,), dtype=string, numpy=array([b'SMRBWMU'], dtype=object)>, 'F14': <tf.Tensor: shape=(1,), dtype=int32, numpy=array([4], dtype=int32)>, 'F15': <tf.Tensor: shape=(1,), dtype=string, numpy=array([b'NGMRRQG'], dtype=object)>, 'F16': <tf.Tensor: shape=(1,), dtype=string, numpy=array([b'NLHSWSR'], dtype=object)>, 'F17': <tf.Tensor: shape=(1,), dtype=string, numpy=array([b'SXZLOWA'], dtype=object)>, 'F18': <tf.Tensor: shape=(1,), dtype=float32, numpy=array([0.], dtype=float32)>, 'F19': <tf.Tensor: shape=(1,), dtype=float32, numpy=array([1.], dtype=float32)>, 'F20': <tf.Tensor: shape=(1,), dtype=string, numpy=array([b'LTCDFSX'], dtype=object)>, 'F21': <tf.Tensor: shape=(1,), dtype=string, numpy=array([b'SWAZXZY'], dtype=object)>, 'F22': <tf.Tensor: shape=(1,), dtype=string, numpy=array([b'SNDDHSM'], dtype=object)>, 'F23': <tf.Tensor: shape=(1,), dtype=string, numpy=array([b'IDHAIQQ'], dtype=object)>, 'F24': <tf.Tensor: shape=(1,), dtype=float32, numpy=array([5.], dtype=float32)>, 'F25': <tf.Tensor: shape=(1,), dtype=string, numpy=array([b'HLADEES'], dtype=object)>, 'F26': <tf.Tensor: shape=(1,), dtype=string, numpy=array([b'XAUNDQW'], dtype=object)>, 'F27': <tf.Tensor: shape=(1,), dtype=float32, numpy=array([3.], dtype=float32)>, 'F28': <tf.Tensor: shape=(1,), dtype=string, numpy=array([b'MAVCFCM'], dtype=object)>, 'F29': <tf.Tensor: shape=(1,), dtype=float32, numpy=array([1.], dtype=float32)>, 'F30': <tf.Tensor: shape=(1,), dtype=string, numpy=array([b'NZGEZLW'], dtype=object)>, 'F31': <tf.Tensor: shape=(1,), dtype=string, numpy=array([b'GTISJWW'], dtype=object)>, 'F32': <tf.Tensor: shape=(1,), dtype=float32, numpy=array([380.], dtype=float32)>, 'F33': <tf.Tensor: shape=(1,), dtype=float32, numpy=array([2.], dtype=float32)>, 'F34': <tf.Tensor: shape=(1,), dtype=string, numpy=array([b'AXQFZWC'], dtype=object)>, 'F35': <tf.Tensor: shape=(1,), dtype=string, numpy=array([b'IRUDRFB'], dtype=object)>, 'F36': <tf.Tensor: shape=(1,), dtype=float32, numpy=array([0.], dtype=float32)>, 'F37': <tf.Tensor: shape=(1,), dtype=string, numpy=array([b'TFJMLCZ'], dtype=object)>, 'F38': <tf.Tensor: shape=(1,), dtype=float32, numpy=array([0.], dtype=float32)>, 'F39': <tf.Tensor: shape=(1,), dtype=string, numpy=array([b'AURZYDY'], dtype=object)>})\n",
      "OrderedDict({'ID': <tf.Tensor: shape=(1,), dtype=string, numpy=array([b'TRAIN_00000001'], dtype=object)>, 'Click': <tf.Tensor: shape=(1,), dtype=int32, numpy=array([0], dtype=int32)>, 'F01': <tf.Tensor: shape=(1,), dtype=string, numpy=array([b'VGIVWZQ'], dtype=object)>, 'F02': <tf.Tensor: shape=(1,), dtype=string, numpy=array([b'LSUSMVO'], dtype=object)>, 'F03': <tf.Tensor: shape=(1,), dtype=string, numpy=array([b'PQGWFJZ'], dtype=object)>, 'F04': <tf.Tensor: shape=(1,), dtype=float32, numpy=array([26.], dtype=float32)>, 'F05': <tf.Tensor: shape=(1,), dtype=string, numpy=array([b'NFRVLWS'], dtype=object)>, 'F06': <tf.Tensor: shape=(1,), dtype=int32, numpy=array([43], dtype=int32)>, 'F07': <tf.Tensor: shape=(1,), dtype=string, numpy=array([b'IMPIGJT'], dtype=object)>, 'F08': <tf.Tensor: shape=(1,), dtype=string, numpy=array([b'MIGYEEG'], dtype=object)>, 'F09': <tf.Tensor: shape=(1,), dtype=string, numpy=array([b'NGODWIN'], dtype=object)>, 'F10': <tf.Tensor: shape=(1,), dtype=string, numpy=array([b'GBQMJYF'], dtype=object)>, 'F11': <tf.Tensor: shape=(1,), dtype=float32, numpy=array([137.], dtype=float32)>, 'F12': <tf.Tensor: shape=(1,), dtype=string, numpy=array([b'OUPRLWN'], dtype=object)>, 'F13': <tf.Tensor: shape=(1,), dtype=string, numpy=array([b'QVLCQTS'], dtype=object)>, 'F14': <tf.Tensor: shape=(1,), dtype=int32, numpy=array([22], dtype=int32)>, 'F15': <tf.Tensor: shape=(1,), dtype=string, numpy=array([b'ZHOLRQX'], dtype=object)>, 'F16': <tf.Tensor: shape=(1,), dtype=string, numpy=array([b'DGLEHCI'], dtype=object)>, 'F17': <tf.Tensor: shape=(1,), dtype=string, numpy=array([b'ZSBOVQM'], dtype=object)>, 'F18': <tf.Tensor: shape=(1,), dtype=float32, numpy=array([19.], dtype=float32)>, 'F19': <tf.Tensor: shape=(1,), dtype=float32, numpy=array([1.], dtype=float32)>, 'F20': <tf.Tensor: shape=(1,), dtype=string, numpy=array([b'QAOROGG'], dtype=object)>, 'F21': <tf.Tensor: shape=(1,), dtype=string, numpy=array([b'BUUUKVW'], dtype=object)>, 'F22': <tf.Tensor: shape=(1,), dtype=string, numpy=array([b'SNDDHSM'], dtype=object)>, 'F23': <tf.Tensor: shape=(1,), dtype=string, numpy=array([b'IDHAIQQ'], dtype=object)>, 'F24': <tf.Tensor: shape=(1,), dtype=float32, numpy=array([21.], dtype=float32)>, 'F25': <tf.Tensor: shape=(1,), dtype=string, numpy=array([b'TPNEYOY'], dtype=object)>, 'F26': <tf.Tensor: shape=(1,), dtype=string, numpy=array([b'BUWDIBR'], dtype=object)>, 'F27': <tf.Tensor: shape=(1,), dtype=float32, numpy=array([32.], dtype=float32)>, 'F28': <tf.Tensor: shape=(1,), dtype=string, numpy=array([b'IYZTLFQ'], dtype=object)>, 'F29': <tf.Tensor: shape=(1,), dtype=float32, numpy=array([2.], dtype=float32)>, 'F30': <tf.Tensor: shape=(1,), dtype=string, numpy=array([b'NZGEZLW'], dtype=object)>, 'F31': <tf.Tensor: shape=(1,), dtype=string, numpy=array([b'GTISJWW'], dtype=object)>, 'F32': <tf.Tensor: shape=(1,), dtype=float32, numpy=array([466.], dtype=float32)>, 'F33': <tf.Tensor: shape=(1,), dtype=float32, numpy=array([1.], dtype=float32)>, 'F34': <tf.Tensor: shape=(1,), dtype=string, numpy=array([b'DRVVDHZ'], dtype=object)>, 'F35': <tf.Tensor: shape=(1,), dtype=string, numpy=array([b'IRUDRFB'], dtype=object)>, 'F36': <tf.Tensor: shape=(1,), dtype=float32, numpy=array([19.], dtype=float32)>, 'F37': <tf.Tensor: shape=(1,), dtype=string, numpy=array([b'AUGTURV'], dtype=object)>, 'F38': <tf.Tensor: shape=(1,), dtype=float32, numpy=array([0.], dtype=float32)>, 'F39': <tf.Tensor: shape=(1,), dtype=string, numpy=array([b'LUZRMLU'], dtype=object)>})\n",
      "OrderedDict({'ID': <tf.Tensor: shape=(1,), dtype=string, numpy=array([b'TRAIN_00000002'], dtype=object)>, 'Click': <tf.Tensor: shape=(1,), dtype=int32, numpy=array([0], dtype=int32)>, 'F01': <tf.Tensor: shape=(1,), dtype=string, numpy=array([b'JCDXFYU'], dtype=object)>, 'F02': <tf.Tensor: shape=(1,), dtype=string, numpy=array([b'PILDDJU'], dtype=object)>, 'F03': <tf.Tensor: shape=(1,), dtype=string, numpy=array([b'IAGJDOH'], dtype=object)>, 'F04': <tf.Tensor: shape=(1,), dtype=float32, numpy=array([119.], dtype=float32)>, 'F05': <tf.Tensor: shape=(1,), dtype=string, numpy=array([b'LFPUEOV'], dtype=object)>, 'F06': <tf.Tensor: shape=(1,), dtype=int32, numpy=array([0], dtype=int32)>, 'F07': <tf.Tensor: shape=(1,), dtype=string, numpy=array([b'FFUTIRZ'], dtype=object)>, 'F08': <tf.Tensor: shape=(1,), dtype=string, numpy=array([b'OFKQGTY'], dtype=object)>, 'F09': <tf.Tensor: shape=(1,), dtype=string, numpy=array([b'BEZTQIO'], dtype=object)>, 'F10': <tf.Tensor: shape=(1,), dtype=string, numpy=array([b'YLKUVQA'], dtype=object)>, 'F11': <tf.Tensor: shape=(1,), dtype=float32, numpy=array([0.], dtype=float32)>, 'F12': <tf.Tensor: shape=(1,), dtype=string, numpy=array([b'MGRUYII'], dtype=object)>, 'F13': <tf.Tensor: shape=(1,), dtype=string, numpy=array([b'KGJACUM'], dtype=object)>, 'F14': <tf.Tensor: shape=(1,), dtype=int32, numpy=array([0], dtype=int32)>, 'F15': <tf.Tensor: shape=(1,), dtype=string, numpy=array([b'ZNLREKK'], dtype=object)>, 'F16': <tf.Tensor: shape=(1,), dtype=string, numpy=array([b'PBCDAMR'], dtype=object)>, 'F17': <tf.Tensor: shape=(1,), dtype=string, numpy=array([b'TEHYADQ'], dtype=object)>, 'F18': <tf.Tensor: shape=(1,), dtype=float32, numpy=array([2.], dtype=float32)>, 'F19': <tf.Tensor: shape=(1,), dtype=float32, numpy=array([0.], dtype=float32)>, 'F20': <tf.Tensor: shape=(1,), dtype=string, numpy=array([b'TGVLSYT'], dtype=object)>, 'F21': <tf.Tensor: shape=(1,), dtype=string, numpy=array([b'FUZMWEL'], dtype=object)>, 'F22': <tf.Tensor: shape=(1,), dtype=string, numpy=array([b'SNDDHSM'], dtype=object)>, 'F23': <tf.Tensor: shape=(1,), dtype=string, numpy=array([b'ZXHXBZQ'], dtype=object)>, 'F24': <tf.Tensor: shape=(1,), dtype=float32, numpy=array([0.], dtype=float32)>, 'F25': <tf.Tensor: shape=(1,), dtype=string, numpy=array([b'YMGUAHK'], dtype=object)>, 'F26': <tf.Tensor: shape=(1,), dtype=string, numpy=array([b'WVRHGBC'], dtype=object)>, 'F27': <tf.Tensor: shape=(1,), dtype=float32, numpy=array([0.], dtype=float32)>, 'F28': <tf.Tensor: shape=(1,), dtype=string, numpy=array([b'VNBXRYV'], dtype=object)>, 'F29': <tf.Tensor: shape=(1,), dtype=float32, numpy=array([0.], dtype=float32)>, 'F30': <tf.Tensor: shape=(1,), dtype=string, numpy=array([b'VHXETCF'], dtype=object)>, 'F31': <tf.Tensor: shape=(1,), dtype=string, numpy=array([b'KHZNEZF'], dtype=object)>, 'F32': <tf.Tensor: shape=(1,), dtype=float32, numpy=array([197.], dtype=float32)>, 'F33': <tf.Tensor: shape=(1,), dtype=float32, numpy=array([0.], dtype=float32)>, 'F34': <tf.Tensor: shape=(1,), dtype=string, numpy=array([b'QMOULXS'], dtype=object)>, 'F35': <tf.Tensor: shape=(1,), dtype=string, numpy=array([b'IRUDRFB'], dtype=object)>, 'F36': <tf.Tensor: shape=(1,), dtype=float32, numpy=array([8.], dtype=float32)>, 'F37': <tf.Tensor: shape=(1,), dtype=string, numpy=array([b'ZVSTLNM'], dtype=object)>, 'F38': <tf.Tensor: shape=(1,), dtype=float32, numpy=array([0.], dtype=float32)>, 'F39': <tf.Tensor: shape=(1,), dtype=string, numpy=array([b'MHBRSQK'], dtype=object)>})\n",
      "OrderedDict({'ID': <tf.Tensor: shape=(1,), dtype=string, numpy=array([b'TRAIN_00000003'], dtype=object)>, 'Click': <tf.Tensor: shape=(1,), dtype=int32, numpy=array([1], dtype=int32)>, 'F01': <tf.Tensor: shape=(1,), dtype=string, numpy=array([b'PSMFWTP'], dtype=object)>, 'F02': <tf.Tensor: shape=(1,), dtype=string, numpy=array([b'ZYAVJHP'], dtype=object)>, 'F03': <tf.Tensor: shape=(1,), dtype=string, numpy=array([b''], dtype=object)>, 'F04': <tf.Tensor: shape=(1,), dtype=float32, numpy=array([15.], dtype=float32)>, 'F05': <tf.Tensor: shape=(1,), dtype=string, numpy=array([b'ATQPZSJ'], dtype=object)>, 'F06': <tf.Tensor: shape=(1,), dtype=int32, numpy=array([26], dtype=int32)>, 'F07': <tf.Tensor: shape=(1,), dtype=string, numpy=array([b'ZDTZNSB'], dtype=object)>, 'F08': <tf.Tensor: shape=(1,), dtype=string, numpy=array([b'THBWWCD'], dtype=object)>, 'F09': <tf.Tensor: shape=(1,), dtype=string, numpy=array([b'LTETYBG'], dtype=object)>, 'F10': <tf.Tensor: shape=(1,), dtype=string, numpy=array([b'GEKHGQZ'], dtype=object)>, 'F11': <tf.Tensor: shape=(1,), dtype=float32, numpy=array([50.], dtype=float32)>, 'F12': <tf.Tensor: shape=(1,), dtype=string, numpy=array([b'OPGPVBH'], dtype=object)>, 'F13': <tf.Tensor: shape=(1,), dtype=string, numpy=array([b'UMIEGWH'], dtype=object)>, 'F14': <tf.Tensor: shape=(1,), dtype=int32, numpy=array([20], dtype=int32)>, 'F15': <tf.Tensor: shape=(1,), dtype=string, numpy=array([b''], dtype=object)>, 'F16': <tf.Tensor: shape=(1,), dtype=string, numpy=array([b'WDTKLCQ'], dtype=object)>, 'F17': <tf.Tensor: shape=(1,), dtype=string, numpy=array([b'SXZLOWA'], dtype=object)>, 'F18': <tf.Tensor: shape=(1,), dtype=float32, numpy=array([14.], dtype=float32)>, 'F19': <tf.Tensor: shape=(1,), dtype=float32, numpy=array([0.], dtype=float32)>, 'F20': <tf.Tensor: shape=(1,), dtype=string, numpy=array([b''], dtype=object)>, 'F21': <tf.Tensor: shape=(1,), dtype=string, numpy=array([b'BJAYVHN'], dtype=object)>, 'F22': <tf.Tensor: shape=(1,), dtype=string, numpy=array([b'SNDDHSM'], dtype=object)>, 'F23': <tf.Tensor: shape=(1,), dtype=string, numpy=array([b'VTYMMMX'], dtype=object)>, 'F24': <tf.Tensor: shape=(1,), dtype=float32, numpy=array([87.], dtype=float32)>, 'F25': <tf.Tensor: shape=(1,), dtype=string, numpy=array([b'IROGIOW'], dtype=object)>, 'F26': <tf.Tensor: shape=(1,), dtype=string, numpy=array([b''], dtype=object)>, 'F27': <tf.Tensor: shape=(1,), dtype=float32, numpy=array([2.], dtype=float32)>, 'F28': <tf.Tensor: shape=(1,), dtype=string, numpy=array([b'YQCIJMD'], dtype=object)>, 'F29': <tf.Tensor: shape=(1,), dtype=float32, numpy=array([1.], dtype=float32)>, 'F30': <tf.Tensor: shape=(1,), dtype=string, numpy=array([b'IVIRTPR'], dtype=object)>, 'F31': <tf.Tensor: shape=(1,), dtype=string, numpy=array([b'GTISJWW'], dtype=object)>, 'F32': <tf.Tensor: shape=(1,), dtype=float32, numpy=array([8640.], dtype=float32)>, 'F33': <tf.Tensor: shape=(1,), dtype=float32, numpy=array([0.], dtype=float32)>, 'F34': <tf.Tensor: shape=(1,), dtype=string, numpy=array([b'IZLJUJS'], dtype=object)>, 'F35': <tf.Tensor: shape=(1,), dtype=string, numpy=array([b'IRUDRFB'], dtype=object)>, 'F36': <tf.Tensor: shape=(1,), dtype=float32, numpy=array([14.], dtype=float32)>, 'F37': <tf.Tensor: shape=(1,), dtype=string, numpy=array([b'ZBSRLCQ'], dtype=object)>, 'F38': <tf.Tensor: shape=(1,), dtype=float32, numpy=array([0.], dtype=float32)>, 'F39': <tf.Tensor: shape=(1,), dtype=string, numpy=array([b'GAZBSSZ'], dtype=object)>})\n",
      "OrderedDict({'ID': <tf.Tensor: shape=(1,), dtype=string, numpy=array([b'TRAIN_00000004'], dtype=object)>, 'Click': <tf.Tensor: shape=(1,), dtype=int32, numpy=array([0], dtype=int32)>, 'F01': <tf.Tensor: shape=(1,), dtype=string, numpy=array([b'SLCRICD'], dtype=object)>, 'F02': <tf.Tensor: shape=(1,), dtype=string, numpy=array([b'QPQWGXA'], dtype=object)>, 'F03': <tf.Tensor: shape=(1,), dtype=string, numpy=array([b''], dtype=object)>, 'F04': <tf.Tensor: shape=(1,), dtype=float32, numpy=array([13.], dtype=float32)>, 'F05': <tf.Tensor: shape=(1,), dtype=string, numpy=array([b'CHZGJZR'], dtype=object)>, 'F06': <tf.Tensor: shape=(1,), dtype=int32, numpy=array([20], dtype=int32)>, 'F07': <tf.Tensor: shape=(1,), dtype=string, numpy=array([b'PQZBVMG'], dtype=object)>, 'F08': <tf.Tensor: shape=(1,), dtype=string, numpy=array([b'MIGYEEG'], dtype=object)>, 'F09': <tf.Tensor: shape=(1,), dtype=string, numpy=array([b'LJBQPJW'], dtype=object)>, 'F10': <tf.Tensor: shape=(1,), dtype=string, numpy=array([b'SOKLCDW'], dtype=object)>, 'F11': <tf.Tensor: shape=(1,), dtype=float32, numpy=array([789.], dtype=float32)>, 'F12': <tf.Tensor: shape=(1,), dtype=string, numpy=array([b'LHVQODU'], dtype=object)>, 'F13': <tf.Tensor: shape=(1,), dtype=string, numpy=array([b'YJFFIGH'], dtype=object)>, 'F14': <tf.Tensor: shape=(1,), dtype=int32, numpy=array([42], dtype=int32)>, 'F15': <tf.Tensor: shape=(1,), dtype=string, numpy=array([b''], dtype=object)>, 'F16': <tf.Tensor: shape=(1,), dtype=string, numpy=array([b'NRRIGTN'], dtype=object)>, 'F17': <tf.Tensor: shape=(1,), dtype=string, numpy=array([b'TEHYADQ'], dtype=object)>, 'F18': <tf.Tensor: shape=(1,), dtype=float32, numpy=array([13.], dtype=float32)>, 'F19': <tf.Tensor: shape=(1,), dtype=float32, numpy=array([0.], dtype=float32)>, 'F20': <tf.Tensor: shape=(1,), dtype=string, numpy=array([b''], dtype=object)>, 'F21': <tf.Tensor: shape=(1,), dtype=string, numpy=array([b'LBABTIR'], dtype=object)>, 'F22': <tf.Tensor: shape=(1,), dtype=string, numpy=array([b'NXBZHKD'], dtype=object)>, 'F23': <tf.Tensor: shape=(1,), dtype=string, numpy=array([b'IZDGSXJ'], dtype=object)>, 'F24': <tf.Tensor: shape=(1,), dtype=float32, numpy=array([0.], dtype=float32)>, 'F25': <tf.Tensor: shape=(1,), dtype=string, numpy=array([b'PWGXQTB'], dtype=object)>, 'F26': <tf.Tensor: shape=(1,), dtype=string, numpy=array([b''], dtype=object)>, 'F27': <tf.Tensor: shape=(1,), dtype=float32, numpy=array([0.], dtype=float32)>, 'F28': <tf.Tensor: shape=(1,), dtype=string, numpy=array([b'IYZTLFQ'], dtype=object)>, 'F29': <tf.Tensor: shape=(1,), dtype=float32, numpy=array([0.], dtype=float32)>, 'F30': <tf.Tensor: shape=(1,), dtype=string, numpy=array([b'NZGEZLW'], dtype=object)>, 'F31': <tf.Tensor: shape=(1,), dtype=string, numpy=array([b'WHSRKIM'], dtype=object)>, 'F32': <tf.Tensor: shape=(1,), dtype=float32, numpy=array([41774.], dtype=float32)>, 'F33': <tf.Tensor: shape=(1,), dtype=float32, numpy=array([0.], dtype=float32)>, 'F34': <tf.Tensor: shape=(1,), dtype=string, numpy=array([b'BHBIZCL'], dtype=object)>, 'F35': <tf.Tensor: shape=(1,), dtype=string, numpy=array([b'IRUDRFB'], dtype=object)>, 'F36': <tf.Tensor: shape=(1,), dtype=float32, numpy=array([13.], dtype=float32)>, 'F37': <tf.Tensor: shape=(1,), dtype=string, numpy=array([b'QHYLSBX'], dtype=object)>, 'F38': <tf.Tensor: shape=(1,), dtype=float32, numpy=array([0.], dtype=float32)>, 'F39': <tf.Tensor: shape=(1,), dtype=string, numpy=array([b'QTATWAY'], dtype=object)>})\n",
      "OrderedDict({'ID': <tf.Tensor: shape=(1,), dtype=string, numpy=array([b'TRAIN_00000005'], dtype=object)>, 'Click': <tf.Tensor: shape=(1,), dtype=int32, numpy=array([0], dtype=int32)>, 'F01': <tf.Tensor: shape=(1,), dtype=string, numpy=array([b'ZRTPTHN'], dtype=object)>, 'F02': <tf.Tensor: shape=(1,), dtype=string, numpy=array([b'WOAIOXV'], dtype=object)>, 'F03': <tf.Tensor: shape=(1,), dtype=string, numpy=array([b''], dtype=object)>, 'F04': <tf.Tensor: shape=(1,), dtype=float32, numpy=array([10.], dtype=float32)>, 'F05': <tf.Tensor: shape=(1,), dtype=string, numpy=array([b'KGRHDVF'], dtype=object)>, 'F06': <tf.Tensor: shape=(1,), dtype=int32, numpy=array([771], dtype=int32)>, 'F07': <tf.Tensor: shape=(1,), dtype=string, numpy=array([b'PQZBVMG'], dtype=object)>, 'F08': <tf.Tensor: shape=(1,), dtype=string, numpy=array([b'FTPHMPQ'], dtype=object)>, 'F09': <tf.Tensor: shape=(1,), dtype=string, numpy=array([b'FSSMLSS'], dtype=object)>, 'F10': <tf.Tensor: shape=(1,), dtype=string, numpy=array([b'XLBNYXC'], dtype=object)>, 'F11': <tf.Tensor: shape=(1,), dtype=float32, numpy=array([638.], dtype=float32)>, 'F12': <tf.Tensor: shape=(1,), dtype=string, numpy=array([b'ZZEFABO'], dtype=object)>, 'F13': <tf.Tensor: shape=(1,), dtype=string, numpy=array([b'VEPNXII'], dtype=object)>, 'F14': <tf.Tensor: shape=(1,), dtype=int32, numpy=array([2], dtype=int32)>, 'F15': <tf.Tensor: shape=(1,), dtype=string, numpy=array([b''], dtype=object)>, 'F16': <tf.Tensor: shape=(1,), dtype=string, numpy=array([b'WNSRVWB'], dtype=object)>, 'F17': <tf.Tensor: shape=(1,), dtype=string, numpy=array([b'QABXFTY'], dtype=object)>, 'F18': <tf.Tensor: shape=(1,), dtype=float32, numpy=array([2.], dtype=float32)>, 'F19': <tf.Tensor: shape=(1,), dtype=float32, numpy=array([0.], dtype=float32)>, 'F20': <tf.Tensor: shape=(1,), dtype=string, numpy=array([b''], dtype=object)>, 'F21': <tf.Tensor: shape=(1,), dtype=string, numpy=array([b'BUUUKVW'], dtype=object)>, 'F22': <tf.Tensor: shape=(1,), dtype=string, numpy=array([b'MCGNYVX'], dtype=object)>, 'F23': <tf.Tensor: shape=(1,), dtype=string, numpy=array([b'IDHAIQQ'], dtype=object)>, 'F24': <tf.Tensor: shape=(1,), dtype=float32, numpy=array([0.], dtype=float32)>, 'F25': <tf.Tensor: shape=(1,), dtype=string, numpy=array([b'FCZJZSP'], dtype=object)>, 'F26': <tf.Tensor: shape=(1,), dtype=string, numpy=array([b''], dtype=object)>, 'F27': <tf.Tensor: shape=(1,), dtype=float32, numpy=array([0.], dtype=float32)>, 'F28': <tf.Tensor: shape=(1,), dtype=string, numpy=array([b'YYEFTXW'], dtype=object)>, 'F29': <tf.Tensor: shape=(1,), dtype=float32, numpy=array([0.], dtype=float32)>, 'F30': <tf.Tensor: shape=(1,), dtype=string, numpy=array([b'HBBSHXY'], dtype=object)>, 'F31': <tf.Tensor: shape=(1,), dtype=string, numpy=array([b'NYWYONG'], dtype=object)>, 'F32': <tf.Tensor: shape=(1,), dtype=float32, numpy=array([109018.], dtype=float32)>, 'F33': <tf.Tensor: shape=(1,), dtype=float32, numpy=array([0.], dtype=float32)>, 'F34': <tf.Tensor: shape=(1,), dtype=string, numpy=array([b'GIEMYWV'], dtype=object)>, 'F35': <tf.Tensor: shape=(1,), dtype=string, numpy=array([b'MNBSNJV'], dtype=object)>, 'F36': <tf.Tensor: shape=(1,), dtype=float32, numpy=array([2.], dtype=float32)>, 'F37': <tf.Tensor: shape=(1,), dtype=string, numpy=array([b'PJKCVNE'], dtype=object)>, 'F38': <tf.Tensor: shape=(1,), dtype=float32, numpy=array([0.], dtype=float32)>, 'F39': <tf.Tensor: shape=(1,), dtype=string, numpy=array([b'JGNZTTM'], dtype=object)>})\n"
     ]
    },
    {
     "name": "stderr",
     "output_type": "stream",
     "text": [
      "2024-05-24 19:28:16.502381: W tensorflow/core/framework/local_rendezvous.cc:404] Local rendezvous is aborting with status: OUT_OF_RANGE: End of sequence\n"
     ]
    }
   ],
   "source": [
    "for x in Dataset.take(6):\n",
    "    print(x)"
   ]
  },
  {
   "cell_type": "code",
   "execution_count": 40,
   "metadata": {},
   "outputs": [
    {
     "data": {
      "text/plain": [
       "tf.string"
      ]
     },
     "execution_count": 40,
     "metadata": {},
     "output_type": "execute_result"
    }
   ],
   "source": []
  },
  {
   "cell_type": "code",
   "execution_count": 1,
   "metadata": {},
   "outputs": [
    {
     "ename": "NameError",
     "evalue": "name 'Dataset' is not defined",
     "output_type": "error",
     "traceback": [
      "\u001b[0;31m---------------------------------------------------------------------------\u001b[0m",
      "\u001b[0;31mNameError\u001b[0m                                 Traceback (most recent call last)",
      "Cell \u001b[0;32mIn[1], line 1\u001b[0m\n\u001b[0;32m----> 1\u001b[0m \u001b[38;5;28;01mfor\u001b[39;00m x \u001b[38;5;129;01min\u001b[39;00m \u001b[43mDataset\u001b[49m\u001b[38;5;241m.\u001b[39mtake(\u001b[38;5;241m6\u001b[39m):\n\u001b[1;32m      2\u001b[0m     \u001b[38;5;28mprint\u001b[39m(x)\n",
      "\u001b[0;31mNameError\u001b[0m: name 'Dataset' is not defined"
     ]
    }
   ],
   "source": [
    "for x in Dataset.take(6):\n",
    "    print(x)"
   ]
  },
  {
   "cell_type": "code",
   "execution_count": 10,
   "metadata": {},
   "outputs": [],
   "source": [
    "# shuffle_params={\"buffer_size\":data_size//7,\"seed\":10}\n",
    "# Dataset=Dataset.repeat(3).shuffle(**shuffle_params).batch(data_size//7)"
   ]
  },
  {
   "cell_type": "code",
   "execution_count": 11,
   "metadata": {},
   "outputs": [],
   "source": [
    "test_data=Dataset.take(1)"
   ]
  },
  {
   "cell_type": "code",
   "execution_count": 13,
   "metadata": {},
   "outputs": [
    {
     "name": "stderr",
     "output_type": "stream",
     "text": [
      "2024-05-24 19:16:25.198534: I tensorflow/core/kernels/data/shuffle_dataset_op.cc:450] ShuffleDatasetV3:19: Filling up shuffle buffer (this may take a while): 362723 of 4086484\n",
      "2024-05-24 19:16:35.198583: I tensorflow/core/kernels/data/shuffle_dataset_op.cc:450] ShuffleDatasetV3:19: Filling up shuffle buffer (this may take a while): 723394 of 4086484\n",
      "2024-05-24 19:16:55.198583: I tensorflow/core/kernels/data/shuffle_dataset_op.cc:450] ShuffleDatasetV3:19: Filling up shuffle buffer (this may take a while): 1480632 of 4086484\n"
     ]
    }
   ],
   "source": [
    "for x in test_data:\n",
    "    print(x)"
   ]
  },
  {
   "cell_type": "markdown",
   "metadata": {},
   "source": [
    "# 방법 2.\n",
    "CsvDataset\n",
    "\n",
    "나중에 사용"
   ]
  },
  {
   "cell_type": "code",
   "execution_count": 28,
   "metadata": {},
   "outputs": [],
   "source": [
    "import pandas as pd\n",
    "import numpy as np\n",
    "dtype=pd.read_csv(data_path,nrows=100).dropna(axis=0).dtypes"
   ]
  },
  {
   "cell_type": "markdown",
   "metadata": {},
   "source": [
    "살펴보자"
   ]
  },
  {
   "cell_type": "code",
   "execution_count": 7,
   "metadata": {},
   "outputs": [
    {
     "data": {
      "text/plain": [
       "<_PrefetchDataset element_spec=OrderedDict({'ID': TensorSpec(shape=(1,), dtype=tf.string, name=None), 'Click': TensorSpec(shape=(1,), dtype=tf.int32, name=None), 'F01': TensorSpec(shape=(1,), dtype=tf.string, name=None), 'F02': TensorSpec(shape=(1,), dtype=tf.string, name=None), 'F03': TensorSpec(shape=(1,), dtype=tf.string, name=None), 'F04': TensorSpec(shape=(1,), dtype=tf.float32, name=None), 'F05': TensorSpec(shape=(1,), dtype=tf.string, name=None), 'F06': TensorSpec(shape=(1,), dtype=tf.int32, name=None), 'F07': TensorSpec(shape=(1,), dtype=tf.string, name=None), 'F08': TensorSpec(shape=(1,), dtype=tf.string, name=None), 'F09': TensorSpec(shape=(1,), dtype=tf.string, name=None), 'F10': TensorSpec(shape=(1,), dtype=tf.string, name=None), 'F11': TensorSpec(shape=(1,), dtype=tf.float32, name=None), 'F12': TensorSpec(shape=(1,), dtype=tf.string, name=None), 'F13': TensorSpec(shape=(1,), dtype=tf.string, name=None), 'F14': TensorSpec(shape=(1,), dtype=tf.int32, name=None), 'F15': TensorSpec(shape=(1,), dtype=tf.string, name=None), 'F16': TensorSpec(shape=(1,), dtype=tf.string, name=None), 'F17': TensorSpec(shape=(1,), dtype=tf.string, name=None), 'F18': TensorSpec(shape=(1,), dtype=tf.float32, name=None), 'F19': TensorSpec(shape=(1,), dtype=tf.float32, name=None), 'F20': TensorSpec(shape=(1,), dtype=tf.string, name=None), 'F21': TensorSpec(shape=(1,), dtype=tf.string, name=None), 'F22': TensorSpec(shape=(1,), dtype=tf.string, name=None), 'F23': TensorSpec(shape=(1,), dtype=tf.string, name=None), 'F24': TensorSpec(shape=(1,), dtype=tf.float32, name=None), 'F25': TensorSpec(shape=(1,), dtype=tf.string, name=None), 'F26': TensorSpec(shape=(1,), dtype=tf.string, name=None), 'F27': TensorSpec(shape=(1,), dtype=tf.float32, name=None), 'F28': TensorSpec(shape=(1,), dtype=tf.string, name=None), 'F29': TensorSpec(shape=(1,), dtype=tf.float32, name=None), 'F30': TensorSpec(shape=(1,), dtype=tf.string, name=None), 'F31': TensorSpec(shape=(1,), dtype=tf.string, name=None), 'F32': TensorSpec(shape=(1,), dtype=tf.float32, name=None), 'F33': TensorSpec(shape=(1,), dtype=tf.float32, name=None), 'F34': TensorSpec(shape=(1,), dtype=tf.string, name=None), 'F35': TensorSpec(shape=(1,), dtype=tf.string, name=None), 'F36': TensorSpec(shape=(1,), dtype=tf.float32, name=None), 'F37': TensorSpec(shape=(1,), dtype=tf.string, name=None), 'F38': TensorSpec(shape=(1,), dtype=tf.float32, name=None), 'F39': TensorSpec(shape=(1,), dtype=tf.string, name=None)})>"
      ]
     },
     "execution_count": 7,
     "metadata": {},
     "output_type": "execute_result"
    }
   ],
   "source": [
    "Datase"
   ]
  },
  {
   "cell_type": "markdown",
   "metadata": {},
   "source": [
    "튜플 분리"
   ]
  },
  {
   "cell_type": "code",
   "execution_count": 7,
   "metadata": {},
   "outputs": [],
   "source": [
    "str_tuple=[x for x,y in dataset.element_spec.items() if y.dtype==tf.string]\n",
    "str_tuple.remove(\"ID\")\n",
    "int_tuple=[x for x,y in dataset.element_spec.items() if y.dtype==tf.int32]\n",
    "float_tuple=[x for x,y in dataset.element_spec.items() if y.dtype==tf.float32]"
   ]
  },
  {
   "cell_type": "code",
   "execution_count": 8,
   "metadata": {},
   "outputs": [],
   "source": [
    "# str_tuple 처리 -> ID 튜플은 사용허지 않음\n",
    "str_input_shape,int_input_shape,float_input_shape=[len(str_tuple),],[len(int_tuple),],[len(float_tuple),]"
   ]
  },
  {
   "cell_type": "code",
   "execution_count": 13,
   "metadata": {},
   "outputs": [],
   "source": [
    "str_input=dataset.map(lambda x:{tup:x[tup] for tup in str_tuple})\n",
    "int_input=dataset.map(lambda x:{tup:x[tup] for tup in int_tuple})\n",
    "float_input=dataset.map(lambda x:{tup:x[tup] for tup in float_tuple})"
   ]
  },
  {
   "cell_type": "code",
   "execution_count": 23,
   "metadata": {},
   "outputs": [],
   "source": [
    "int_test_df=int_input.take(1).as_numpy_iterator()"
   ]
  },
  {
   "cell_type": "code",
   "execution_count": 24,
   "metadata": {},
   "outputs": [
    {
     "name": "stdout",
     "output_type": "stream",
     "text": [
      "{'Click': array([0, 0, 0, 1, 1, 0, 1, 0, 0, 0, 0, 0, 0, 1, 0, 0, 1, 0, 1, 0, 1, 0,\n",
      "       0, 1, 1, 0, 0, 1, 1, 0, 0, 0, 0, 1, 1, 0, 0, 0, 0, 0, 0, 0, 0, 1,\n",
      "       0, 1, 0, 0, 0, 1, 0, 1, 0, 0, 1, 0, 0, 0, 0, 0, 1, 0, 0, 1, 0, 0,\n",
      "       0, 0, 0, 0, 0, 0, 1, 1, 0, 0, 0, 0, 0, 0, 0, 0, 0, 0, 1, 0, 0, 0,\n",
      "       0, 0, 1, 0, 0, 0, 0, 0, 0, 0, 0, 0, 0, 0, 1, 0, 0, 0, 0, 0, 0, 0,\n",
      "       0, 0, 1, 0, 0, 0, 0, 0, 0, 0, 0, 0, 1, 0, 0, 0, 0, 0], dtype=int32), 'F06': array([   2,    0,    1,    0,  126,   35,   40,    2,    0,   -1,   84,\n",
      "         28,    5,    0,   41,    1,   -1,   -1,    0,  106,   52,   32,\n",
      "         64,    4,    2,  562,   33,  220,   10,    2,    1,   12,   11,\n",
      "         -1,    2,    6,   -1,    1,   -1,   19,   83,  223,  203,    0,\n",
      "          2,    1,    3,    1,   36,    8,  393,   16,    3, 1087,    1,\n",
      "         34,    3,   -1,    1,    1,  119,   16,    0,   16,   10,   64,\n",
      "        132,   48,   37,   25,    3,    7,   -1,    2,  263,    0,    0,\n",
      "          0,    1,   46,    1,   41,   54, 2401,   42,    4,    5,   59,\n",
      "          5,   91,  234,   24,    1,    0,  804,    1,   73,   94,   -1,\n",
      "         27,   11,   22,   -1,   65,   -1,    4,    4,    1,    0,    1,\n",
      "         -1,   13,   -1, 1278,    1,   78,   -1,    1,  729,    1,    0,\n",
      "          1,    2,   -1,    1,    8,  655,    1], dtype=int32), 'F14': array([17,  0, 13,  1, 44,  2,  6,  5,  0, 11,  1,  9,  1,  0, 18, 17,  0,\n",
      "        0,  3, 12,  1,  2, 12, 16,  0,  4, 27,  0, 16,  0, 16,  1, 10,  0,\n",
      "        0,  6, 16,  5,  0,  0,  6,  0, 26, 16,  2,  1, 10,  4, 12,  2, 26,\n",
      "       25, 14, 35,  0,  1, 12,  0, 11, 49,  5,  4, 32,  2,  0,  0,  0,  7,\n",
      "       24,  3, 44,  4,  1,  6,  1,  1, 26,  0,  0, 30,  8,  0,  0,  0,  1,\n",
      "       38,  3,  0,  7, 49,  1,  1,  0,  5,  5, 12,  4,  0,  0, 23,  0,  0,\n",
      "        5,  0,  0, 13,  6, 35,  7,  7, 19,  7,  1,  6,  2, 23,  0, 12,  0,\n",
      "        2,  9, 11, 35,  0,  3, 31, 13,  2], dtype=int32)}\n"
     ]
    },
    {
     "name": "stderr",
     "output_type": "stream",
     "text": [
      "2024-05-22 15:18:04.171870: W tensorflow/core/framework/local_rendezvous.cc:404] Local rendezvous is aborting with status: OUT_OF_RANGE: End of sequence\n"
     ]
    }
   ],
   "source": [
    "for i in int_test_df:\n",
    "    print(i)"
   ]
  },
  {
   "cell_type": "code",
   "execution_count": 25,
   "metadata": {},
   "outputs": [
    {
     "ename": "SyntaxError",
     "evalue": "invalid syntax (4143651624.py, line 1)",
     "output_type": "error",
     "traceback": [
      "\u001b[0;36m  Cell \u001b[0;32mIn[25], line 1\u001b[0;36m\u001b[0m\n\u001b[0;31m    dataset.filter(map(lambda x:x.))\u001b[0m\n\u001b[0m                                  ^\u001b[0m\n\u001b[0;31mSyntaxError\u001b[0m\u001b[0;31m:\u001b[0m invalid syntax\n"
     ]
    }
   ],
   "source": [
    "dataset.filter(map(lambda x:x.))"
   ]
  },
  {
   "cell_type": "code",
   "execution_count": 78,
   "metadata": {},
   "outputs": [
    {
     "name": "stdout",
     "output_type": "stream",
     "text": [
      "tf.Tensor(\n",
      "[b'TRAIN_00008460' b'TRAIN_00000837' b'TRAIN_00007589' b'TRAIN_00001842'\n",
      " b'TRAIN_00007032' b'TRAIN_00004418' b'TRAIN_00006119' b'TRAIN_00006769'\n",
      " b'TRAIN_00008766' b'TRAIN_00002984' b'TRAIN_00001229' b'TRAIN_00001935'\n",
      " b'TRAIN_00002897' b'TRAIN_00007692' b'TRAIN_00002356' b'TRAIN_00002666'\n",
      " b'TRAIN_00007459' b'TRAIN_00007885' b'TRAIN_00000997' b'TRAIN_00003755'\n",
      " b'TRAIN_00007990' b'TRAIN_00000477' b'TRAIN_00001261' b'TRAIN_00001111'\n",
      " b'TRAIN_00005896' b'TRAIN_00007800' b'TRAIN_00006966' b'TRAIN_00007457'\n",
      " b'TRAIN_00004908' b'TRAIN_00009926' b'TRAIN_00005651' b'TRAIN_00006417'\n",
      " b'TRAIN_00006027' b'TRAIN_00007410' b'TRAIN_00009217' b'TRAIN_00001505'\n",
      " b'TRAIN_00009707' b'TRAIN_00002139' b'TRAIN_00001960' b'TRAIN_00006440'\n",
      " b'TRAIN_00002975' b'TRAIN_00002061' b'TRAIN_00000657' b'TRAIN_00006950'\n",
      " b'TRAIN_00003172' b'TRAIN_00002598' b'TRAIN_00002595' b'TRAIN_00006547'\n",
      " b'TRAIN_00002591' b'TRAIN_00009160' b'TRAIN_00001933' b'TRAIN_00008059'\n",
      " b'TRAIN_00005451' b'TRAIN_00001458' b'TRAIN_00005684' b'TRAIN_00007308'\n",
      " b'TRAIN_00003249' b'TRAIN_00002533' b'TRAIN_00000355' b'TRAIN_00005533'\n",
      " b'TRAIN_00009571' b'TRAIN_00009092' b'TRAIN_00003096' b'TRAIN_00006373'\n",
      " b'TRAIN_00004166' b'TRAIN_00003907' b'TRAIN_00009204' b'TRAIN_00006423'\n",
      " b'TRAIN_00007571' b'TRAIN_00009613' b'TRAIN_00003230' b'TRAIN_00009536'\n",
      " b'TRAIN_00002528' b'TRAIN_00006390' b'TRAIN_00007163' b'TRAIN_00005505'\n",
      " b'TRAIN_00006857' b'TRAIN_00003707' b'TRAIN_00009138' b'TRAIN_00005714'\n",
      " b'TRAIN_00006829' b'TRAIN_00001710' b'TRAIN_00003461' b'TRAIN_00002459'\n",
      " b'TRAIN_00008707' b'TRAIN_00005290' b'TRAIN_00008506' b'TRAIN_00005958'\n",
      " b'TRAIN_00000034' b'TRAIN_00007291' b'TRAIN_00004862' b'TRAIN_00007521'\n",
      " b'TRAIN_00003137' b'TRAIN_00006418' b'TRAIN_00000300' b'TRAIN_00005271'\n",
      " b'TRAIN_00001201' b'TRAIN_00009760' b'TRAIN_00008382' b'TRAIN_00005885'\n",
      " b'TRAIN_00006324' b'TRAIN_00009436' b'TRAIN_00003180' b'TRAIN_00009220'\n",
      " b'TRAIN_00000741' b'TRAIN_00000386' b'TRAIN_00006401' b'TRAIN_00002951'\n",
      " b'TRAIN_00005919' b'TRAIN_00006978' b'TRAIN_00006733' b'TRAIN_00001305'\n",
      " b'TRAIN_00009057' b'TRAIN_00007102' b'TRAIN_00003966' b'TRAIN_00006320'\n",
      " b'TRAIN_00004188' b'TRAIN_00001622' b'TRAIN_00007611' b'TRAIN_00004814'\n",
      " b'TRAIN_00005578' b'TRAIN_00002375' b'TRAIN_00008634' b'TRAIN_00006198'\n",
      " b'TRAIN_00008468' b'TRAIN_00007204' b'TRAIN_00000082' b'TRAIN_00003860'\n",
      " b'TRAIN_00003692' b'TRAIN_00004813' b'TRAIN_00002819' b'TRAIN_00005741'\n",
      " b'TRAIN_00000836' b'TRAIN_00002531' b'TRAIN_00006029' b'TRAIN_00003897'\n",
      " b'TRAIN_00003741' b'TRAIN_00008758' b'TRAIN_00007793' b'TRAIN_00007533'\n",
      " b'TRAIN_00000555' b'TRAIN_00007302' b'TRAIN_00001591' b'TRAIN_00007338'\n",
      " b'TRAIN_00002732' b'TRAIN_00009887' b'TRAIN_00006404' b'TRAIN_00009171'\n",
      " b'TRAIN_00004269' b'TRAIN_00007534' b'TRAIN_00004850' b'TRAIN_00001462'\n",
      " b'TRAIN_00003223' b'TRAIN_00002853' b'TRAIN_00001199' b'TRAIN_00009362'\n",
      " b'TRAIN_00007069' b'TRAIN_00004991' b'TRAIN_00009736' b'TRAIN_00003294'\n",
      " b'TRAIN_00009152' b'TRAIN_00003501' b'TRAIN_00003608' b'TRAIN_00001951'\n",
      " b'TRAIN_00006310' b'TRAIN_00000697' b'TRAIN_00006052' b'TRAIN_00002118'\n",
      " b'TRAIN_00001416' b'TRAIN_00002863' b'TRAIN_00009345' b'TRAIN_00000469'\n",
      " b'TRAIN_00002236' b'TRAIN_00009446' b'TRAIN_00006674' b'TRAIN_00004273'\n",
      " b'TRAIN_00000048' b'TRAIN_00007435' b'TRAIN_00003286' b'TRAIN_00004194'\n",
      " b'TRAIN_00005912' b'TRAIN_00002328' b'TRAIN_00005530' b'TRAIN_00002960'\n",
      " b'TRAIN_00004451' b'TRAIN_00007842' b'TRAIN_00001606' b'TRAIN_00001030'\n",
      " b'TRAIN_00003079' b'TRAIN_00001452' b'TRAIN_00009600' b'TRAIN_00004656'\n",
      " b'TRAIN_00003665' b'TRAIN_00009375' b'TRAIN_00000327' b'TRAIN_00000656'\n",
      " b'TRAIN_00001193' b'TRAIN_00005548' b'TRAIN_00005847' b'TRAIN_00000944'\n",
      " b'TRAIN_00001248' b'TRAIN_00008400' b'TRAIN_00004717' b'TRAIN_00005344'\n",
      " b'TRAIN_00004870' b'TRAIN_00006657' b'TRAIN_00000200' b'TRAIN_00007336'\n",
      " b'TRAIN_00006141' b'TRAIN_00001845' b'TRAIN_00003892' b'TRAIN_00003734'\n",
      " b'TRAIN_00006000' b'TRAIN_00002026' b'TRAIN_00000694' b'TRAIN_00007028'\n",
      " b'TRAIN_00009414' b'TRAIN_00004810' b'TRAIN_00010214' b'TRAIN_00001276'\n",
      " b'TRAIN_00008282' b'TRAIN_00004149' b'TRAIN_00000582' b'TRAIN_00001571'\n",
      " b'TRAIN_00000367' b'TRAIN_00003880' b'TRAIN_00006594' b'TRAIN_00005748'\n",
      " b'TRAIN_00007817' b'TRAIN_00003647' b'TRAIN_00009906' b'TRAIN_00009360'\n",
      " b'TRAIN_00004873' b'TRAIN_00001915' b'TRAIN_00005907' b'TRAIN_00001950'\n",
      " b'TRAIN_00000077' b'TRAIN_00001302' b'TRAIN_00008056' b'TRAIN_00004638'\n",
      " b'TRAIN_00000943' b'TRAIN_00005988' b'TRAIN_00003932' b'TRAIN_00010183'\n",
      " b'TRAIN_00006133' b'TRAIN_00003595' b'TRAIN_00003721' b'TRAIN_00000536'\n",
      " b'TRAIN_00003135' b'TRAIN_00004584' b'TRAIN_00002588' b'TRAIN_00000152'\n",
      " b'TRAIN_00007050' b'TRAIN_00001731' b'TRAIN_00002378' b'TRAIN_00003314'\n",
      " b'TRAIN_00005280' b'TRAIN_00010006' b'TRAIN_00001754' b'TRAIN_00006464'\n",
      " b'TRAIN_00000183' b'TRAIN_00004694' b'TRAIN_00006738' b'TRAIN_00007573'\n",
      " b'TRAIN_00007288' b'TRAIN_00003726' b'TRAIN_00005849' b'TRAIN_00001855'\n",
      " b'TRAIN_00000910' b'TRAIN_00002051' b'TRAIN_00008994' b'TRAIN_00000172'\n",
      " b'TRAIN_00005708' b'TRAIN_00005108' b'TRAIN_00008666' b'TRAIN_00010243'\n",
      " b'TRAIN_00005478' b'TRAIN_00009583' b'TRAIN_00000568' b'TRAIN_00006251'\n",
      " b'TRAIN_00008869' b'TRAIN_00005269' b'TRAIN_00008408' b'TRAIN_00004069'\n",
      " b'TRAIN_00008184' b'TRAIN_00006018' b'TRAIN_00000892' b'TRAIN_00004421'\n",
      " b'TRAIN_00002633' b'TRAIN_00002133' b'TRAIN_00009695' b'TRAIN_00009781'\n",
      " b'TRAIN_00008996' b'TRAIN_00000363' b'TRAIN_00003887' b'TRAIN_00005435'\n",
      " b'TRAIN_00008108' b'TRAIN_00001367' b'TRAIN_00005587' b'TRAIN_00003465'\n",
      " b'TRAIN_00006563' b'TRAIN_00010299' b'TRAIN_00007246' b'TRAIN_00003599'\n",
      " b'TRAIN_00002119' b'TRAIN_00008476' b'TRAIN_00010071' b'TRAIN_00003065'\n",
      " b'TRAIN_00006452' b'TRAIN_00006265' b'TRAIN_00005927' b'TRAIN_00000276'\n",
      " b'TRAIN_00003552' b'TRAIN_00003468' b'TRAIN_00008183' b'TRAIN_00001216'\n",
      " b'TRAIN_00001292' b'TRAIN_00004579' b'TRAIN_00009858' b'TRAIN_00008800'\n",
      " b'TRAIN_00006019' b'TRAIN_00001795' b'TRAIN_00009896' b'TRAIN_00009305'\n",
      " b'TRAIN_00000757' b'TRAIN_00004782' b'TRAIN_00009626' b'TRAIN_00005519'\n",
      " b'TRAIN_00001507' b'TRAIN_00000714' b'TRAIN_00003913' b'TRAIN_00003553'\n",
      " b'TRAIN_00001495' b'TRAIN_00000969' b'TRAIN_00002645' b'TRAIN_00004066'\n",
      " b'TRAIN_00008495' b'TRAIN_00006715' b'TRAIN_00000708' b'TRAIN_00007093'\n",
      " b'TRAIN_00004051' b'TRAIN_00006092' b'TRAIN_00007327' b'TRAIN_00004317'\n",
      " b'TRAIN_00004090' b'TRAIN_00008461' b'TRAIN_00009229' b'TRAIN_00005963'\n",
      " b'TRAIN_00010140' b'TRAIN_00001154' b'TRAIN_00005050' b'TRAIN_00001179'\n",
      " b'TRAIN_00000815' b'TRAIN_00002372' b'TRAIN_00007496' b'TRAIN_00002127'\n",
      " b'TRAIN_00000838' b'TRAIN_00005179' b'TRAIN_00005789' b'TRAIN_00004345'\n",
      " b'TRAIN_00008714' b'TRAIN_00008696' b'TRAIN_00004120' b'TRAIN_00005097'\n",
      " b'TRAIN_00000219' b'TRAIN_00003863' b'TRAIN_00010128' b'TRAIN_00009884'\n",
      " b'TRAIN_00007377' b'TRAIN_00006076' b'TRAIN_00001239' b'TRAIN_00002519'\n",
      " b'TRAIN_00003995' b'TRAIN_00000680' b'TRAIN_00005730' b'TRAIN_00009784'\n",
      " b'TRAIN_00006959' b'TRAIN_00010146' b'TRAIN_00000967' b'TRAIN_00000917'\n",
      " b'TRAIN_00008587' b'TRAIN_00000805' b'TRAIN_00001271' b'TRAIN_00002738'\n",
      " b'TRAIN_00005303' b'TRAIN_00001975' b'TRAIN_00001974' b'TRAIN_00002611'\n",
      " b'TRAIN_00007150' b'TRAIN_00004393' b'TRAIN_00000230' b'TRAIN_00002646'\n",
      " b'TRAIN_00004891' b'TRAIN_00001043' b'TRAIN_00001805' b'TRAIN_00009685'\n",
      " b'TRAIN_00010374' b'TRAIN_00005198' b'TRAIN_00002908' b'TRAIN_00003808'\n",
      " b'TRAIN_00000783' b'TRAIN_00007695' b'TRAIN_00009423' b'TRAIN_00002187'\n",
      " b'TRAIN_00008440' b'TRAIN_00002391' b'TRAIN_00003036' b'TRAIN_00007453'\n",
      " b'TRAIN_00004065' b'TRAIN_00000658' b'TRAIN_00005766' b'TRAIN_00003754'\n",
      " b'TRAIN_00000037' b'TRAIN_00005994' b'TRAIN_00010070' b'TRAIN_00003082'\n",
      " b'TRAIN_00004648' b'TRAIN_00003002' b'TRAIN_00002497' b'TRAIN_00008006'\n",
      " b'TRAIN_00005918' b'TRAIN_00003195' b'TRAIN_00010098' b'TRAIN_00010272'\n",
      " b'TRAIN_00001667' b'TRAIN_00006853' b'TRAIN_00006945' b'TRAIN_00001775'\n",
      " b'TRAIN_00006532' b'TRAIN_00005501' b'TRAIN_00010291' b'TRAIN_00008098'\n",
      " b'TRAIN_00001827' b'TRAIN_00003605' b'TRAIN_00008473' b'TRAIN_00005946'\n",
      " b'TRAIN_00006806' b'TRAIN_00000660' b'TRAIN_00004610' b'TRAIN_00006131'\n",
      " b'TRAIN_00000867' b'TRAIN_00004013' b'TRAIN_00000650' b'TRAIN_00009681'\n",
      " b'TRAIN_00009216' b'TRAIN_00006877' b'TRAIN_00010138' b'TRAIN_00003991'\n",
      " b'TRAIN_00009079' b'TRAIN_00009048' b'TRAIN_00005660' b'TRAIN_00001931'\n",
      " b'TRAIN_00009975' b'TRAIN_00001058' b'TRAIN_00008231' b'TRAIN_00005338'\n",
      " b'TRAIN_00000964' b'TRAIN_00001946' b'TRAIN_00000807' b'TRAIN_00003899'\n",
      " b'TRAIN_00002240' b'TRAIN_00002038' b'TRAIN_00007724' b'TRAIN_00007937'\n",
      " b'TRAIN_00003654' b'TRAIN_00006955' b'TRAIN_00010180' b'TRAIN_00005010'\n",
      " b'TRAIN_00004627' b'TRAIN_00002687' b'TRAIN_00009340' b'TRAIN_00006212'\n",
      " b'TRAIN_00008441' b'TRAIN_00006116' b'TRAIN_00008488' b'TRAIN_00004144'\n",
      " b'TRAIN_00002774' b'TRAIN_00002933' b'TRAIN_00000080' b'TRAIN_00007020'\n",
      " b'TRAIN_00005978' b'TRAIN_00009011' b'TRAIN_00006149' b'TRAIN_00006384'\n",
      " b'TRAIN_00009208' b'TRAIN_00007189' b'TRAIN_00007117' b'TRAIN_00005060'\n",
      " b'TRAIN_00004281' b'TRAIN_00004326' b'TRAIN_00008749' b'TRAIN_00003683'\n",
      " b'TRAIN_00010255' b'TRAIN_00006346' b'TRAIN_00006976' b'TRAIN_00000701'\n",
      " b'TRAIN_00000454' b'TRAIN_00006473' b'TRAIN_00010013' b'TRAIN_00004461'\n",
      " b'TRAIN_00005838' b'TRAIN_00001436' b'TRAIN_00001285' b'TRAIN_00007570'\n",
      " b'TRAIN_00003750' b'TRAIN_00000379' b'TRAIN_00002537' b'TRAIN_00005671'\n",
      " b'TRAIN_00008407' b'TRAIN_00001207' b'TRAIN_00003671' b'TRAIN_00009662'], shape=(512,), dtype=string)\n"
     ]
    },
    {
     "name": "stderr",
     "output_type": "stream",
     "text": [
      "2024-05-17 17:56:37.085696: W tensorflow/core/framework/local_rendezvous.cc:404] Local rendezvous is aborting with status: OUT_OF_RANGE: End of sequence\n"
     ]
    }
   ],
   "source": [
    "for i in dataset.take(1):\n",
    "    tf.data.Dataset.sample_from_datasets()"
   ]
  },
  {
   "cell_type": "code",
   "execution_count": null,
   "metadata": {},
   "outputs": [],
   "source": []
  }
 ],
 "metadata": {
  "kernelspec": {
   "display_name": "Python 3",
   "language": "python",
   "name": "python3"
  },
  "language_info": {
   "codemirror_mode": {
    "name": "ipython",
    "version": 3
   },
   "file_extension": ".py",
   "mimetype": "text/x-python",
   "name": "python",
   "nbconvert_exporter": "python",
   "pygments_lexer": "ipython3",
   "version": "3.12.1"
  }
 },
 "nbformat": 4,
 "nbformat_minor": 2
}
