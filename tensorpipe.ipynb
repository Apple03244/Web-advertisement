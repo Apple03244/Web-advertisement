{
 "cells": [
  {
   "cell_type": "code",
   "execution_count": 1,
   "metadata": {},
   "outputs": [],
   "source": [
    "import tensorflow as tf\n",
    "import tensorflow.io as ti\n",
    "import tensorflow.train as tt\n",
    "import tensorflow.keras as kras\n",
    "data_path='/Users/ijeonghun/Documents/projects/dacon/웹광고/train.csv'"
   ]
  },
  {
   "cell_type": "code",
   "execution_count": 2,
   "metadata": {},
   "outputs": [],
   "source": [
    "with open(data_path,\"r\") as f:\n",
    "    data=f.readlines()"
   ]
  },
  {
   "cell_type": "code",
   "execution_count": 3,
   "metadata": {},
   "outputs": [
    {
     "name": "stdout",
     "output_type": "stream",
     "text": [
      "데이터셋 사이즈 :  28605391\n"
     ]
    }
   ],
   "source": [
    "print('데이터셋 사이즈 : ',len(data)-1)"
   ]
  },
  {
   "cell_type": "code",
   "execution_count": 4,
   "metadata": {},
   "outputs": [],
   "source": [
    "import functools as ft\n",
    "fix_params={'file_pattern':[data_path],\"ignore_errors\":True}\n",
    "tf_dataset=ft.partial(tf.data.experimental.make_csv_dataset,**fix_params)"
   ]
  },
  {
   "cell_type": "code",
   "execution_count": 6,
   "metadata": {},
   "outputs": [],
   "source": [
    "dataset=tf_dataset(batch_size=128)"
   ]
  },
  {
   "cell_type": "markdown",
   "metadata": {},
   "source": [
    "살펴보자"
   ]
  },
  {
   "cell_type": "code",
   "execution_count": 7,
   "metadata": {},
   "outputs": [
    {
     "data": {
      "text/plain": [
       "OrderedDict([('ID', TensorSpec(shape=(128,), dtype=tf.string, name=None)),\n",
       "             ('Click', TensorSpec(shape=(128,), dtype=tf.int32, name=None)),\n",
       "             ('F01', TensorSpec(shape=(128,), dtype=tf.string, name=None)),\n",
       "             ('F02', TensorSpec(shape=(128,), dtype=tf.string, name=None)),\n",
       "             ('F03', TensorSpec(shape=(128,), dtype=tf.string, name=None)),\n",
       "             ('F04', TensorSpec(shape=(128,), dtype=tf.float32, name=None)),\n",
       "             ('F05', TensorSpec(shape=(128,), dtype=tf.string, name=None)),\n",
       "             ('F06', TensorSpec(shape=(128,), dtype=tf.int32, name=None)),\n",
       "             ('F07', TensorSpec(shape=(128,), dtype=tf.string, name=None)),\n",
       "             ('F08', TensorSpec(shape=(128,), dtype=tf.string, name=None)),\n",
       "             ('F09', TensorSpec(shape=(128,), dtype=tf.string, name=None)),\n",
       "             ('F10', TensorSpec(shape=(128,), dtype=tf.string, name=None)),\n",
       "             ('F11', TensorSpec(shape=(128,), dtype=tf.float32, name=None)),\n",
       "             ('F12', TensorSpec(shape=(128,), dtype=tf.string, name=None)),\n",
       "             ('F13', TensorSpec(shape=(128,), dtype=tf.string, name=None)),\n",
       "             ('F14', TensorSpec(shape=(128,), dtype=tf.int32, name=None)),\n",
       "             ('F15', TensorSpec(shape=(128,), dtype=tf.string, name=None)),\n",
       "             ('F16', TensorSpec(shape=(128,), dtype=tf.string, name=None)),\n",
       "             ('F17', TensorSpec(shape=(128,), dtype=tf.string, name=None)),\n",
       "             ('F18', TensorSpec(shape=(128,), dtype=tf.float32, name=None)),\n",
       "             ('F19', TensorSpec(shape=(128,), dtype=tf.float32, name=None)),\n",
       "             ('F20', TensorSpec(shape=(128,), dtype=tf.string, name=None)),\n",
       "             ('F21', TensorSpec(shape=(128,), dtype=tf.string, name=None)),\n",
       "             ('F22', TensorSpec(shape=(128,), dtype=tf.string, name=None)),\n",
       "             ('F23', TensorSpec(shape=(128,), dtype=tf.string, name=None)),\n",
       "             ('F24', TensorSpec(shape=(128,), dtype=tf.float32, name=None)),\n",
       "             ('F25', TensorSpec(shape=(128,), dtype=tf.string, name=None)),\n",
       "             ('F26', TensorSpec(shape=(128,), dtype=tf.string, name=None)),\n",
       "             ('F27', TensorSpec(shape=(128,), dtype=tf.float32, name=None)),\n",
       "             ('F28', TensorSpec(shape=(128,), dtype=tf.string, name=None)),\n",
       "             ('F29', TensorSpec(shape=(128,), dtype=tf.float32, name=None)),\n",
       "             ('F30', TensorSpec(shape=(128,), dtype=tf.string, name=None)),\n",
       "             ('F31', TensorSpec(shape=(128,), dtype=tf.string, name=None)),\n",
       "             ('F32', TensorSpec(shape=(128,), dtype=tf.float32, name=None)),\n",
       "             ('F33', TensorSpec(shape=(128,), dtype=tf.float32, name=None)),\n",
       "             ('F34', TensorSpec(shape=(128,), dtype=tf.string, name=None)),\n",
       "             ('F35', TensorSpec(shape=(128,), dtype=tf.string, name=None)),\n",
       "             ('F36', TensorSpec(shape=(128,), dtype=tf.float32, name=None)),\n",
       "             ('F37', TensorSpec(shape=(128,), dtype=tf.string, name=None)),\n",
       "             ('F38', TensorSpec(shape=(128,), dtype=tf.float32, name=None)),\n",
       "             ('F39', TensorSpec(shape=(128,), dtype=tf.string, name=None))])"
      ]
     },
     "execution_count": 7,
     "metadata": {},
     "output_type": "execute_result"
    }
   ],
   "source": [
    "dataset.element_spec"
   ]
  },
  {
   "cell_type": "markdown",
   "metadata": {},
   "source": [
    "튜플 분리"
   ]
  },
  {
   "cell_type": "code",
   "execution_count": 8,
   "metadata": {},
   "outputs": [],
   "source": [
    "str_tuple=[x for x,y in dataset.element_spec.items() if y.dtype==tf.string]\n",
    "str_tuple.remove(\"ID\")\n",
    "int_tuple=[x for x,y in dataset.element_spec.items() if y.dtype==tf.int32]\n",
    "float_tuple=[x for x,y in dataset.element_spec.items() if y.dtype==tf.float32]"
   ]
  },
  {
   "cell_type": "code",
   "execution_count": 12,
   "metadata": {},
   "outputs": [],
   "source": [
    "# str_tuple 처리 -> ID 튜플은 사용허지 않음\n",
    "str_input_shape,int_input_shape,float_input_shape=[len(str_tuple),],[len(int_tuple),],[len(float_tuple),]"
   ]
  },
  {
   "cell_type": "code",
   "execution_count": 13,
   "metadata": {},
   "outputs": [],
   "source": [
    "str_input=dataset.map(lambda x:{tup:x[tup] for tup in str_tuple})\n",
    "int_input=dataset.map(lambda x:{tup:x[tup] for tup in int_tuple})\n",
    "float_input=dataset.map(lambda x:{tup:x[tup] for tup in float_tuple})"
   ]
  },
  {
   "cell_type": "code",
   "execution_count": 23,
   "metadata": {},
   "outputs": [],
   "source": [
    "int_test_df=int_input.take(1).as_numpy_iterator()"
   ]
  },
  {
   "cell_type": "code",
   "execution_count": 24,
   "metadata": {},
   "outputs": [
    {
     "name": "stdout",
     "output_type": "stream",
     "text": [
      "{'Click': array([0, 0, 0, 1, 1, 0, 1, 0, 0, 0, 0, 0, 0, 1, 0, 0, 1, 0, 1, 0, 1, 0,\n",
      "       0, 1, 1, 0, 0, 1, 1, 0, 0, 0, 0, 1, 1, 0, 0, 0, 0, 0, 0, 0, 0, 1,\n",
      "       0, 1, 0, 0, 0, 1, 0, 1, 0, 0, 1, 0, 0, 0, 0, 0, 1, 0, 0, 1, 0, 0,\n",
      "       0, 0, 0, 0, 0, 0, 1, 1, 0, 0, 0, 0, 0, 0, 0, 0, 0, 0, 1, 0, 0, 0,\n",
      "       0, 0, 1, 0, 0, 0, 0, 0, 0, 0, 0, 0, 0, 0, 1, 0, 0, 0, 0, 0, 0, 0,\n",
      "       0, 0, 1, 0, 0, 0, 0, 0, 0, 0, 0, 0, 1, 0, 0, 0, 0, 0], dtype=int32), 'F06': array([   2,    0,    1,    0,  126,   35,   40,    2,    0,   -1,   84,\n",
      "         28,    5,    0,   41,    1,   -1,   -1,    0,  106,   52,   32,\n",
      "         64,    4,    2,  562,   33,  220,   10,    2,    1,   12,   11,\n",
      "         -1,    2,    6,   -1,    1,   -1,   19,   83,  223,  203,    0,\n",
      "          2,    1,    3,    1,   36,    8,  393,   16,    3, 1087,    1,\n",
      "         34,    3,   -1,    1,    1,  119,   16,    0,   16,   10,   64,\n",
      "        132,   48,   37,   25,    3,    7,   -1,    2,  263,    0,    0,\n",
      "          0,    1,   46,    1,   41,   54, 2401,   42,    4,    5,   59,\n",
      "          5,   91,  234,   24,    1,    0,  804,    1,   73,   94,   -1,\n",
      "         27,   11,   22,   -1,   65,   -1,    4,    4,    1,    0,    1,\n",
      "         -1,   13,   -1, 1278,    1,   78,   -1,    1,  729,    1,    0,\n",
      "          1,    2,   -1,    1,    8,  655,    1], dtype=int32), 'F14': array([17,  0, 13,  1, 44,  2,  6,  5,  0, 11,  1,  9,  1,  0, 18, 17,  0,\n",
      "        0,  3, 12,  1,  2, 12, 16,  0,  4, 27,  0, 16,  0, 16,  1, 10,  0,\n",
      "        0,  6, 16,  5,  0,  0,  6,  0, 26, 16,  2,  1, 10,  4, 12,  2, 26,\n",
      "       25, 14, 35,  0,  1, 12,  0, 11, 49,  5,  4, 32,  2,  0,  0,  0,  7,\n",
      "       24,  3, 44,  4,  1,  6,  1,  1, 26,  0,  0, 30,  8,  0,  0,  0,  1,\n",
      "       38,  3,  0,  7, 49,  1,  1,  0,  5,  5, 12,  4,  0,  0, 23,  0,  0,\n",
      "        5,  0,  0, 13,  6, 35,  7,  7, 19,  7,  1,  6,  2, 23,  0, 12,  0,\n",
      "        2,  9, 11, 35,  0,  3, 31, 13,  2], dtype=int32)}\n"
     ]
    },
    {
     "name": "stderr",
     "output_type": "stream",
     "text": [
      "2024-05-22 15:18:04.171870: W tensorflow/core/framework/local_rendezvous.cc:404] Local rendezvous is aborting with status: OUT_OF_RANGE: End of sequence\n"
     ]
    }
   ],
   "source": [
    "for i in int_test_df:\n",
    "    print(i)"
   ]
  },
  {
   "cell_type": "code",
   "execution_count": 25,
   "metadata": {},
   "outputs": [
    {
     "ename": "SyntaxError",
     "evalue": "invalid syntax (4143651624.py, line 1)",
     "output_type": "error",
     "traceback": [
      "\u001b[0;36m  Cell \u001b[0;32mIn[25], line 1\u001b[0;36m\u001b[0m\n\u001b[0;31m    dataset.filter(map(lambda x:x.))\u001b[0m\n\u001b[0m                                  ^\u001b[0m\n\u001b[0;31mSyntaxError\u001b[0m\u001b[0;31m:\u001b[0m invalid syntax\n"
     ]
    }
   ],
   "source": [
    "dataset.filter(map(lambda x:x.))"
   ]
  },
  {
   "cell_type": "code",
   "execution_count": 78,
   "metadata": {},
   "outputs": [
    {
     "name": "stdout",
     "output_type": "stream",
     "text": [
      "tf.Tensor(\n",
      "[b'TRAIN_00008460' b'TRAIN_00000837' b'TRAIN_00007589' b'TRAIN_00001842'\n",
      " b'TRAIN_00007032' b'TRAIN_00004418' b'TRAIN_00006119' b'TRAIN_00006769'\n",
      " b'TRAIN_00008766' b'TRAIN_00002984' b'TRAIN_00001229' b'TRAIN_00001935'\n",
      " b'TRAIN_00002897' b'TRAIN_00007692' b'TRAIN_00002356' b'TRAIN_00002666'\n",
      " b'TRAIN_00007459' b'TRAIN_00007885' b'TRAIN_00000997' b'TRAIN_00003755'\n",
      " b'TRAIN_00007990' b'TRAIN_00000477' b'TRAIN_00001261' b'TRAIN_00001111'\n",
      " b'TRAIN_00005896' b'TRAIN_00007800' b'TRAIN_00006966' b'TRAIN_00007457'\n",
      " b'TRAIN_00004908' b'TRAIN_00009926' b'TRAIN_00005651' b'TRAIN_00006417'\n",
      " b'TRAIN_00006027' b'TRAIN_00007410' b'TRAIN_00009217' b'TRAIN_00001505'\n",
      " b'TRAIN_00009707' b'TRAIN_00002139' b'TRAIN_00001960' b'TRAIN_00006440'\n",
      " b'TRAIN_00002975' b'TRAIN_00002061' b'TRAIN_00000657' b'TRAIN_00006950'\n",
      " b'TRAIN_00003172' b'TRAIN_00002598' b'TRAIN_00002595' b'TRAIN_00006547'\n",
      " b'TRAIN_00002591' b'TRAIN_00009160' b'TRAIN_00001933' b'TRAIN_00008059'\n",
      " b'TRAIN_00005451' b'TRAIN_00001458' b'TRAIN_00005684' b'TRAIN_00007308'\n",
      " b'TRAIN_00003249' b'TRAIN_00002533' b'TRAIN_00000355' b'TRAIN_00005533'\n",
      " b'TRAIN_00009571' b'TRAIN_00009092' b'TRAIN_00003096' b'TRAIN_00006373'\n",
      " b'TRAIN_00004166' b'TRAIN_00003907' b'TRAIN_00009204' b'TRAIN_00006423'\n",
      " b'TRAIN_00007571' b'TRAIN_00009613' b'TRAIN_00003230' b'TRAIN_00009536'\n",
      " b'TRAIN_00002528' b'TRAIN_00006390' b'TRAIN_00007163' b'TRAIN_00005505'\n",
      " b'TRAIN_00006857' b'TRAIN_00003707' b'TRAIN_00009138' b'TRAIN_00005714'\n",
      " b'TRAIN_00006829' b'TRAIN_00001710' b'TRAIN_00003461' b'TRAIN_00002459'\n",
      " b'TRAIN_00008707' b'TRAIN_00005290' b'TRAIN_00008506' b'TRAIN_00005958'\n",
      " b'TRAIN_00000034' b'TRAIN_00007291' b'TRAIN_00004862' b'TRAIN_00007521'\n",
      " b'TRAIN_00003137' b'TRAIN_00006418' b'TRAIN_00000300' b'TRAIN_00005271'\n",
      " b'TRAIN_00001201' b'TRAIN_00009760' b'TRAIN_00008382' b'TRAIN_00005885'\n",
      " b'TRAIN_00006324' b'TRAIN_00009436' b'TRAIN_00003180' b'TRAIN_00009220'\n",
      " b'TRAIN_00000741' b'TRAIN_00000386' b'TRAIN_00006401' b'TRAIN_00002951'\n",
      " b'TRAIN_00005919' b'TRAIN_00006978' b'TRAIN_00006733' b'TRAIN_00001305'\n",
      " b'TRAIN_00009057' b'TRAIN_00007102' b'TRAIN_00003966' b'TRAIN_00006320'\n",
      " b'TRAIN_00004188' b'TRAIN_00001622' b'TRAIN_00007611' b'TRAIN_00004814'\n",
      " b'TRAIN_00005578' b'TRAIN_00002375' b'TRAIN_00008634' b'TRAIN_00006198'\n",
      " b'TRAIN_00008468' b'TRAIN_00007204' b'TRAIN_00000082' b'TRAIN_00003860'\n",
      " b'TRAIN_00003692' b'TRAIN_00004813' b'TRAIN_00002819' b'TRAIN_00005741'\n",
      " b'TRAIN_00000836' b'TRAIN_00002531' b'TRAIN_00006029' b'TRAIN_00003897'\n",
      " b'TRAIN_00003741' b'TRAIN_00008758' b'TRAIN_00007793' b'TRAIN_00007533'\n",
      " b'TRAIN_00000555' b'TRAIN_00007302' b'TRAIN_00001591' b'TRAIN_00007338'\n",
      " b'TRAIN_00002732' b'TRAIN_00009887' b'TRAIN_00006404' b'TRAIN_00009171'\n",
      " b'TRAIN_00004269' b'TRAIN_00007534' b'TRAIN_00004850' b'TRAIN_00001462'\n",
      " b'TRAIN_00003223' b'TRAIN_00002853' b'TRAIN_00001199' b'TRAIN_00009362'\n",
      " b'TRAIN_00007069' b'TRAIN_00004991' b'TRAIN_00009736' b'TRAIN_00003294'\n",
      " b'TRAIN_00009152' b'TRAIN_00003501' b'TRAIN_00003608' b'TRAIN_00001951'\n",
      " b'TRAIN_00006310' b'TRAIN_00000697' b'TRAIN_00006052' b'TRAIN_00002118'\n",
      " b'TRAIN_00001416' b'TRAIN_00002863' b'TRAIN_00009345' b'TRAIN_00000469'\n",
      " b'TRAIN_00002236' b'TRAIN_00009446' b'TRAIN_00006674' b'TRAIN_00004273'\n",
      " b'TRAIN_00000048' b'TRAIN_00007435' b'TRAIN_00003286' b'TRAIN_00004194'\n",
      " b'TRAIN_00005912' b'TRAIN_00002328' b'TRAIN_00005530' b'TRAIN_00002960'\n",
      " b'TRAIN_00004451' b'TRAIN_00007842' b'TRAIN_00001606' b'TRAIN_00001030'\n",
      " b'TRAIN_00003079' b'TRAIN_00001452' b'TRAIN_00009600' b'TRAIN_00004656'\n",
      " b'TRAIN_00003665' b'TRAIN_00009375' b'TRAIN_00000327' b'TRAIN_00000656'\n",
      " b'TRAIN_00001193' b'TRAIN_00005548' b'TRAIN_00005847' b'TRAIN_00000944'\n",
      " b'TRAIN_00001248' b'TRAIN_00008400' b'TRAIN_00004717' b'TRAIN_00005344'\n",
      " b'TRAIN_00004870' b'TRAIN_00006657' b'TRAIN_00000200' b'TRAIN_00007336'\n",
      " b'TRAIN_00006141' b'TRAIN_00001845' b'TRAIN_00003892' b'TRAIN_00003734'\n",
      " b'TRAIN_00006000' b'TRAIN_00002026' b'TRAIN_00000694' b'TRAIN_00007028'\n",
      " b'TRAIN_00009414' b'TRAIN_00004810' b'TRAIN_00010214' b'TRAIN_00001276'\n",
      " b'TRAIN_00008282' b'TRAIN_00004149' b'TRAIN_00000582' b'TRAIN_00001571'\n",
      " b'TRAIN_00000367' b'TRAIN_00003880' b'TRAIN_00006594' b'TRAIN_00005748'\n",
      " b'TRAIN_00007817' b'TRAIN_00003647' b'TRAIN_00009906' b'TRAIN_00009360'\n",
      " b'TRAIN_00004873' b'TRAIN_00001915' b'TRAIN_00005907' b'TRAIN_00001950'\n",
      " b'TRAIN_00000077' b'TRAIN_00001302' b'TRAIN_00008056' b'TRAIN_00004638'\n",
      " b'TRAIN_00000943' b'TRAIN_00005988' b'TRAIN_00003932' b'TRAIN_00010183'\n",
      " b'TRAIN_00006133' b'TRAIN_00003595' b'TRAIN_00003721' b'TRAIN_00000536'\n",
      " b'TRAIN_00003135' b'TRAIN_00004584' b'TRAIN_00002588' b'TRAIN_00000152'\n",
      " b'TRAIN_00007050' b'TRAIN_00001731' b'TRAIN_00002378' b'TRAIN_00003314'\n",
      " b'TRAIN_00005280' b'TRAIN_00010006' b'TRAIN_00001754' b'TRAIN_00006464'\n",
      " b'TRAIN_00000183' b'TRAIN_00004694' b'TRAIN_00006738' b'TRAIN_00007573'\n",
      " b'TRAIN_00007288' b'TRAIN_00003726' b'TRAIN_00005849' b'TRAIN_00001855'\n",
      " b'TRAIN_00000910' b'TRAIN_00002051' b'TRAIN_00008994' b'TRAIN_00000172'\n",
      " b'TRAIN_00005708' b'TRAIN_00005108' b'TRAIN_00008666' b'TRAIN_00010243'\n",
      " b'TRAIN_00005478' b'TRAIN_00009583' b'TRAIN_00000568' b'TRAIN_00006251'\n",
      " b'TRAIN_00008869' b'TRAIN_00005269' b'TRAIN_00008408' b'TRAIN_00004069'\n",
      " b'TRAIN_00008184' b'TRAIN_00006018' b'TRAIN_00000892' b'TRAIN_00004421'\n",
      " b'TRAIN_00002633' b'TRAIN_00002133' b'TRAIN_00009695' b'TRAIN_00009781'\n",
      " b'TRAIN_00008996' b'TRAIN_00000363' b'TRAIN_00003887' b'TRAIN_00005435'\n",
      " b'TRAIN_00008108' b'TRAIN_00001367' b'TRAIN_00005587' b'TRAIN_00003465'\n",
      " b'TRAIN_00006563' b'TRAIN_00010299' b'TRAIN_00007246' b'TRAIN_00003599'\n",
      " b'TRAIN_00002119' b'TRAIN_00008476' b'TRAIN_00010071' b'TRAIN_00003065'\n",
      " b'TRAIN_00006452' b'TRAIN_00006265' b'TRAIN_00005927' b'TRAIN_00000276'\n",
      " b'TRAIN_00003552' b'TRAIN_00003468' b'TRAIN_00008183' b'TRAIN_00001216'\n",
      " b'TRAIN_00001292' b'TRAIN_00004579' b'TRAIN_00009858' b'TRAIN_00008800'\n",
      " b'TRAIN_00006019' b'TRAIN_00001795' b'TRAIN_00009896' b'TRAIN_00009305'\n",
      " b'TRAIN_00000757' b'TRAIN_00004782' b'TRAIN_00009626' b'TRAIN_00005519'\n",
      " b'TRAIN_00001507' b'TRAIN_00000714' b'TRAIN_00003913' b'TRAIN_00003553'\n",
      " b'TRAIN_00001495' b'TRAIN_00000969' b'TRAIN_00002645' b'TRAIN_00004066'\n",
      " b'TRAIN_00008495' b'TRAIN_00006715' b'TRAIN_00000708' b'TRAIN_00007093'\n",
      " b'TRAIN_00004051' b'TRAIN_00006092' b'TRAIN_00007327' b'TRAIN_00004317'\n",
      " b'TRAIN_00004090' b'TRAIN_00008461' b'TRAIN_00009229' b'TRAIN_00005963'\n",
      " b'TRAIN_00010140' b'TRAIN_00001154' b'TRAIN_00005050' b'TRAIN_00001179'\n",
      " b'TRAIN_00000815' b'TRAIN_00002372' b'TRAIN_00007496' b'TRAIN_00002127'\n",
      " b'TRAIN_00000838' b'TRAIN_00005179' b'TRAIN_00005789' b'TRAIN_00004345'\n",
      " b'TRAIN_00008714' b'TRAIN_00008696' b'TRAIN_00004120' b'TRAIN_00005097'\n",
      " b'TRAIN_00000219' b'TRAIN_00003863' b'TRAIN_00010128' b'TRAIN_00009884'\n",
      " b'TRAIN_00007377' b'TRAIN_00006076' b'TRAIN_00001239' b'TRAIN_00002519'\n",
      " b'TRAIN_00003995' b'TRAIN_00000680' b'TRAIN_00005730' b'TRAIN_00009784'\n",
      " b'TRAIN_00006959' b'TRAIN_00010146' b'TRAIN_00000967' b'TRAIN_00000917'\n",
      " b'TRAIN_00008587' b'TRAIN_00000805' b'TRAIN_00001271' b'TRAIN_00002738'\n",
      " b'TRAIN_00005303' b'TRAIN_00001975' b'TRAIN_00001974' b'TRAIN_00002611'\n",
      " b'TRAIN_00007150' b'TRAIN_00004393' b'TRAIN_00000230' b'TRAIN_00002646'\n",
      " b'TRAIN_00004891' b'TRAIN_00001043' b'TRAIN_00001805' b'TRAIN_00009685'\n",
      " b'TRAIN_00010374' b'TRAIN_00005198' b'TRAIN_00002908' b'TRAIN_00003808'\n",
      " b'TRAIN_00000783' b'TRAIN_00007695' b'TRAIN_00009423' b'TRAIN_00002187'\n",
      " b'TRAIN_00008440' b'TRAIN_00002391' b'TRAIN_00003036' b'TRAIN_00007453'\n",
      " b'TRAIN_00004065' b'TRAIN_00000658' b'TRAIN_00005766' b'TRAIN_00003754'\n",
      " b'TRAIN_00000037' b'TRAIN_00005994' b'TRAIN_00010070' b'TRAIN_00003082'\n",
      " b'TRAIN_00004648' b'TRAIN_00003002' b'TRAIN_00002497' b'TRAIN_00008006'\n",
      " b'TRAIN_00005918' b'TRAIN_00003195' b'TRAIN_00010098' b'TRAIN_00010272'\n",
      " b'TRAIN_00001667' b'TRAIN_00006853' b'TRAIN_00006945' b'TRAIN_00001775'\n",
      " b'TRAIN_00006532' b'TRAIN_00005501' b'TRAIN_00010291' b'TRAIN_00008098'\n",
      " b'TRAIN_00001827' b'TRAIN_00003605' b'TRAIN_00008473' b'TRAIN_00005946'\n",
      " b'TRAIN_00006806' b'TRAIN_00000660' b'TRAIN_00004610' b'TRAIN_00006131'\n",
      " b'TRAIN_00000867' b'TRAIN_00004013' b'TRAIN_00000650' b'TRAIN_00009681'\n",
      " b'TRAIN_00009216' b'TRAIN_00006877' b'TRAIN_00010138' b'TRAIN_00003991'\n",
      " b'TRAIN_00009079' b'TRAIN_00009048' b'TRAIN_00005660' b'TRAIN_00001931'\n",
      " b'TRAIN_00009975' b'TRAIN_00001058' b'TRAIN_00008231' b'TRAIN_00005338'\n",
      " b'TRAIN_00000964' b'TRAIN_00001946' b'TRAIN_00000807' b'TRAIN_00003899'\n",
      " b'TRAIN_00002240' b'TRAIN_00002038' b'TRAIN_00007724' b'TRAIN_00007937'\n",
      " b'TRAIN_00003654' b'TRAIN_00006955' b'TRAIN_00010180' b'TRAIN_00005010'\n",
      " b'TRAIN_00004627' b'TRAIN_00002687' b'TRAIN_00009340' b'TRAIN_00006212'\n",
      " b'TRAIN_00008441' b'TRAIN_00006116' b'TRAIN_00008488' b'TRAIN_00004144'\n",
      " b'TRAIN_00002774' b'TRAIN_00002933' b'TRAIN_00000080' b'TRAIN_00007020'\n",
      " b'TRAIN_00005978' b'TRAIN_00009011' b'TRAIN_00006149' b'TRAIN_00006384'\n",
      " b'TRAIN_00009208' b'TRAIN_00007189' b'TRAIN_00007117' b'TRAIN_00005060'\n",
      " b'TRAIN_00004281' b'TRAIN_00004326' b'TRAIN_00008749' b'TRAIN_00003683'\n",
      " b'TRAIN_00010255' b'TRAIN_00006346' b'TRAIN_00006976' b'TRAIN_00000701'\n",
      " b'TRAIN_00000454' b'TRAIN_00006473' b'TRAIN_00010013' b'TRAIN_00004461'\n",
      " b'TRAIN_00005838' b'TRAIN_00001436' b'TRAIN_00001285' b'TRAIN_00007570'\n",
      " b'TRAIN_00003750' b'TRAIN_00000379' b'TRAIN_00002537' b'TRAIN_00005671'\n",
      " b'TRAIN_00008407' b'TRAIN_00001207' b'TRAIN_00003671' b'TRAIN_00009662'], shape=(512,), dtype=string)\n"
     ]
    },
    {
     "name": "stderr",
     "output_type": "stream",
     "text": [
      "2024-05-17 17:56:37.085696: W tensorflow/core/framework/local_rendezvous.cc:404] Local rendezvous is aborting with status: OUT_OF_RANGE: End of sequence\n"
     ]
    }
   ],
   "source": [
    "for i in dataset.take(1):\n",
    "    tf.data.Dataset.sample_from_datasets()"
   ]
  },
  {
   "cell_type": "code",
   "execution_count": null,
   "metadata": {},
   "outputs": [],
   "source": []
  }
 ],
 "metadata": {
  "kernelspec": {
   "display_name": "Python 3",
   "language": "python",
   "name": "python3"
  },
  "language_info": {
   "codemirror_mode": {
    "name": "ipython",
    "version": 3
   },
   "file_extension": ".py",
   "mimetype": "text/x-python",
   "name": "python",
   "nbconvert_exporter": "python",
   "pygments_lexer": "ipython3",
   "version": "3.11.8"
  }
 },
 "nbformat": 4,
 "nbformat_minor": 2
}
